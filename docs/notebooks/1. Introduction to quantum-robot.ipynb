{
 "cells": [
  {
   "cell_type": "markdown",
   "id": "6c70cfaa-05ad-4ea7-9cc5-4b4fb125cf5e",
   "metadata": {},
   "source": [
    "# Introduction to ``quantum-robot``\n",
    "\n",
    "``quantum-robot`` is a Python package for quantum-like perception modeling for robotics. The package exploits [Qiksit framework](https://qiskit.org/), implementing the models on quantum circuits which can be simulated on a classical computer or sent to a quantum backend (service provided by IBM Quantum Experience).\n",
    "\n",
    "The basic components of ``quantum-robot`` are the following:\n",
    "- QUnits (the basic element of our architecture, processing sensory data returning processed outputs)\n",
    "- Models (the internal quantum model which define how the qUnit deals with input data)\n",
    "- Bursts (which define how the qUnit exploits the internal quantum model, providing the qUnit's output)\n",
    "\n",
    "\n",
    "![](../images/components.svg)\n",
    "\n",
    "In order to understand how these components work, we need first a conceptual example."
   ]
  },
  {
   "cell_type": "markdown",
   "id": "b51bc3de-57f5-4a67-a25c-62d4cf5cca69",
   "metadata": {},
   "source": [
    "## Concepts\n",
    "\n",
    "### The sleeping dead cat\n",
    "\n",
    "A man is in his living room. \n",
    "He sees his cat standing still on a shelf. \n",
    "Nothing but some light movements of the \n",
    "cat's fur is noticed by the man, \n",
    "who cannot decide whether the cat is **dead** \n",
    "(and the perceived movement is due to an air current) \n",
    "or if it is just **asleep**.\n",
    "\n",
    "![](../images/concept1.jpg)\n",
    "\n",
    "Right now he is experiencing a **superposition**\n",
    "of conscious states, because the perceptual\n",
    "stimuli that he receives are not strong\n",
    "enough to make him clearly feel that the cat\n",
    "is sleeping, neither that the cat is dead.\n",
    "\n",
    "Over time, his consciousness oscillates between the two\n",
    "superposition states (at least, until he does not receive a\n",
    "stronger stimulus that makes him certain about one of\n",
    "the two situations)\n",
    "\n",
    "![](../images/concept2.jpg)\n",
    "\n",
    "### Modeling Consciousness with Quantum Mechanics\n",
    "\n",
    "\n"
   ]
  },
  {
   "cell_type": "markdown",
   "id": "a5f2ef9c-6585-4a0c-b71a-4124fbe06a9b",
   "metadata": {},
   "source": [
    "## Models\n",
    "\n",
    "(...)"
   ]
  },
  {
   "cell_type": "code",
   "execution_count": 2,
   "id": "5d72b881-d0da-4bbd-9f26-a84cce192c36",
   "metadata": {},
   "outputs": [],
   "source": [
    "from qrobot.models import AngularModel"
   ]
  },
  {
   "cell_type": "markdown",
   "id": "8f859b1f-777d-410a-9b53-2e21ccd95241",
   "metadata": {},
   "source": [
    "## Bursts\n",
    "\n",
    "(...)"
   ]
  },
  {
   "cell_type": "markdown",
   "id": "ce5688d8-2345-428f-ab5f-71ade61fd2bf",
   "metadata": {},
   "source": [
    "## qUnits\n",
    "\n",
    "(...)"
   ]
  },
  {
   "cell_type": "markdown",
   "id": "18c14768-5792-4cbb-a12a-f1c1e225849b",
   "metadata": {},
   "source": [
    "## Connecting the brain\n",
    "\n",
    "(...)"
   ]
  },
  {
   "cell_type": "code",
   "execution_count": null,
   "id": "93bb6f57-d596-4ec0-95fc-c48edbb9e2e2",
   "metadata": {},
   "outputs": [],
   "source": []
  }
 ],
 "metadata": {
  "kernelspec": {
   "display_name": "Python 3",
   "language": "python",
   "name": "python3"
  },
  "language_info": {
   "codemirror_mode": {
    "name": "ipython",
    "version": 3
   },
   "file_extension": ".py",
   "mimetype": "text/x-python",
   "name": "python",
   "nbconvert_exporter": "python",
   "pygments_lexer": "ipython3",
   "version": "3.8.5"
  }
 },
 "nbformat": 4,
 "nbformat_minor": 5
}
