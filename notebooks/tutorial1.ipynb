{
 "cells": [
  {
   "cell_type": "code",
   "execution_count": 1,
   "metadata": {},
   "outputs": [],
   "source": [
    "import qrobot\n",
    "from time import sleep"
   ]
  },
  {
   "cell_type": "code",
   "execution_count": 2,
   "metadata": {},
   "outputs": [
    {
     "output_type": "stream",
     "name": "stdout",
     "text": [
      "QUnit \"l0_unit0-e5f966\"\n     name:\tl0_unit0\n     id:\tl0_unit0-e5f966\n     model_info:\t[model: AngularModel, n: 2, tau: 10]\n     burst_info:\t<qrobot.bursts.zeroburst.ZeroBurst object at 0x7fb94046ff10>\n     query:\t[0.1, 0.5]\n     Ts:\t0.01\nQUnit \"l1_unit0-58d767\"\n     name:\tl1_unit0\n     id:\tl1_unit0-58d767\n     model_info:\t[model: AngularModel, n: 2, tau: 10]\n     burst_info:\t<qrobot.bursts.zeroburst.ZeroBurst object at 0x7fb94046ff10>\n     query:\t[0.0, 0.0]\n     Ts:\t0.01\nQUnit \"l1_unit1-4ef52c\"\n     name:\tl1_unit1\n     id:\tl1_unit1-4ef52c\n     model_info:\t[model: AngularModel, n: 2, tau: 10]\n     burst_info:\t<qrobot.bursts.zeroburst.ZeroBurst object at 0x7fb94046ff10>\n     query:\t[0.0, 0.0]\n     Ts:\t0.01\n"
     ]
    }
   ],
   "source": [
    "model = qrobot.models.AngularModel(n=2, tau=10)\n",
    "burst = qrobot.bursts.ZeroBurst()\n",
    "\n",
    "# Layer 0\n",
    "l0_unit0 = qrobot.qunits.QUnit(\n",
    "    \"l0_unit0\", model, burst, 0.01,\n",
    "    query=[0.1, 0.5],  # Query target initialized\n",
    "    # No input\n",
    ")\n",
    "\n",
    "# Layer 1\n",
    "l1_unit0 = qrobot.qunits.QUnit(\n",
    "    name=\"l1_unit0\",\n",
    "    model=model,\n",
    "    burst=burst,\n",
    "    Ts=0.01,\n",
    "    in_qunits={0 : l0_unit0.id} # Will receive Input from l0_unit0, dim 0\n",
    ")\n",
    "\n",
    "l1_unit1 = qrobot.qunits.QUnit(\n",
    "    \"l1_unit1\", model, burst, 0.01,\n",
    "    in_qunits={1 : l0_unit0.id} # Will receive input from l0_unit0, dim 1\n",
    ")\n",
    "\n",
    "\n",
    "print(l0_unit0)\n",
    "print(l1_unit0)\n",
    "print(l1_unit1)"
   ]
  },
  {
   "cell_type": "code",
   "execution_count": 3,
   "metadata": {},
   "outputs": [
    {
     "output_type": "stream",
     "name": "stdout",
     "text": [
      "{0: None, 1: None}\n{0: 'l0_unit0-e5f966', 1: None}\n{0: None, 1: 'l0_unit0-e5f966'}\n"
     ]
    }
   ],
   "source": [
    "print(l0_unit0.in_qunits)\n",
    "print(l1_unit0.in_qunits)\n",
    "print(l1_unit1.in_qunits)"
   ]
  },
  {
   "cell_type": "code",
   "execution_count": 4,
   "metadata": {},
   "outputs": [
    {
     "output_type": "stream",
     "name": "stdout",
     "text": [
      "2021-01-17 19:05:51,220 — l0_unit0-e5f966 — INFO — start:233 — Starting qUnit\n",
      "2021-01-17 19:05:51,230 — l1_unit0-58d767 — INFO — start:233 — Starting qUnit\n",
      "2021-01-17 19:05:51,244 — l1_unit1-4ef52c — INFO — start:233 — Starting qUnit\n",
      "2021-01-17 19:05:51,244 — l1_unit0-58d767 — INFO — input_vector:182 — Unable to read l0_unit0-e5f966 input\n",
      "2021-01-17 19:05:51,259 — l1_unit0-58d767 — INFO — input_vector:182 — Unable to read l0_unit0-e5f966 input\n",
      "2021-01-17 19:05:51,259 — l1_unit1-4ef52c — INFO — input_vector:182 — Unable to read l0_unit0-e5f966 input\n",
      "2021-01-17 19:05:51,272 — l1_unit0-58d767 — INFO — input_vector:182 — Unable to read l0_unit0-e5f966 input\n",
      "2021-01-17 19:05:51,274 — l1_unit1-4ef52c — INFO — input_vector:182 — Unable to read l0_unit0-e5f966 input\n",
      "2021-01-17 19:05:51,285 — l1_unit0-58d767 — INFO — input_vector:182 — Unable to read l0_unit0-e5f966 input\n",
      "2021-01-17 19:05:51,287 — l1_unit1-4ef52c — INFO — input_vector:182 — Unable to read l0_unit0-e5f966 input\n",
      "2021-01-17 19:05:51,298 — l1_unit0-58d767 — INFO — input_vector:182 — Unable to read l0_unit0-e5f966 input\n",
      "2021-01-17 19:05:51,301 — l1_unit1-4ef52c — INFO — input_vector:182 — Unable to read l0_unit0-e5f966 input\n",
      "2021-01-17 19:05:51,311 — l1_unit0-58d767 — INFO — input_vector:182 — Unable to read l0_unit0-e5f966 input\n",
      "2021-01-17 19:05:51,314 — l1_unit1-4ef52c — INFO — input_vector:182 — Unable to read l0_unit0-e5f966 input\n",
      "2021-01-17 19:05:51,324 — l1_unit0-58d767 — INFO — input_vector:182 — Unable to read l0_unit0-e5f966 input\n",
      "2021-01-17 19:05:51,327 — l1_unit1-4ef52c — INFO — input_vector:182 — Unable to read l0_unit0-e5f966 input\n",
      "2021-01-17 19:05:51,336 — l1_unit0-58d767 — INFO — input_vector:182 — Unable to read l0_unit0-e5f966 input\n",
      "2021-01-17 19:05:51,339 — l1_unit1-4ef52c — INFO — input_vector:182 — Unable to read l0_unit0-e5f966 input\n",
      "2021-01-17 19:05:51,348 — l1_unit0-58d767 — INFO — input_vector:182 — Unable to read l0_unit0-e5f966 input\n",
      "2021-01-17 19:05:51,351 — l1_unit1-4ef52c — INFO — input_vector:182 — Unable to read l0_unit0-e5f966 input\n",
      "Process Process-4:\n",
      "Process Process-2:\n",
      "Traceback (most recent call last):\n",
      "Traceback (most recent call last):\n",
      "  File \"/usr/lib/python3.8/multiprocessing/process.py\", line 315, in _bootstrap\n",
      "    self.run()\n",
      "  File \"/usr/lib/python3.8/multiprocessing/process.py\", line 315, in _bootstrap\n",
      "    self.run()\n",
      "Process Process-6:\n",
      "  File \"/usr/lib/python3.8/multiprocessing/process.py\", line 108, in run\n",
      "    self._target(*self._args, **self._kwargs)\n",
      "  File \"/usr/lib/python3.8/multiprocessing/process.py\", line 108, in run\n",
      "    self._target(*self._args, **self._kwargs)\n",
      "Traceback (most recent call last):\n",
      "  File \"/home/davidelanza/workspace/quantum_robot/qrobot/qunits/qunit.py\", line 301, in _loop\n",
      "    sleep(self.Ts)\n",
      "  File \"/usr/lib/python3.8/multiprocessing/process.py\", line 315, in _bootstrap\n",
      "    self.run()\n",
      "  File \"/home/davidelanza/workspace/quantum_robot/qrobot/qunits/qunit.py\", line 301, in _loop\n",
      "    sleep(self.Ts)\n",
      "KeyboardInterrupt\n",
      "  File \"/usr/lib/python3.8/multiprocessing/process.py\", line 108, in run\n",
      "    self._target(*self._args, **self._kwargs)\n",
      "  File \"/home/davidelanza/workspace/quantum_robot/qrobot/qunits/qunit.py\", line 301, in _loop\n",
      "    sleep(self.Ts)\n",
      "KeyboardInterrupt\n",
      "KeyboardInterrupt\n"
     ]
    }
   ],
   "source": [
    "l0_unit0.start()\n",
    "l1_unit0.start()\n",
    "l1_unit1.start()"
   ]
  },
  {
   "cell_type": "code",
   "execution_count": 5,
   "metadata": {},
   "outputs": [
    {
     "output_type": "stream",
     "name": "stdout",
     "text": [
      "[1.0, 0.0]\n",
      "[0.5, 0.0]\n",
      "[1.0, 0.0]\n",
      "[0.5, 0.0]\n",
      "[1.0, 0.0]\n"
     ]
    },
    {
     "output_type": "error",
     "ename": "KeyboardInterrupt",
     "evalue": "",
     "traceback": [
      "\u001b[0;31m---------------------------------------------------------------------------\u001b[0m",
      "\u001b[0;31mKeyboardInterrupt\u001b[0m                         Traceback (most recent call last)",
      "\u001b[0;32m<ipython-input-5-fe5e7e990d28>\u001b[0m in \u001b[0;36m<module>\u001b[0;34m\u001b[0m\n\u001b[1;32m      1\u001b[0m \u001b[0;32mwhile\u001b[0m \u001b[0;32mTrue\u001b[0m\u001b[0;34m:\u001b[0m\u001b[0;34m\u001b[0m\u001b[0;34m\u001b[0m\u001b[0m\n\u001b[1;32m      2\u001b[0m     \u001b[0mprint\u001b[0m\u001b[0;34m(\u001b[0m\u001b[0ml1_unit0\u001b[0m\u001b[0;34m.\u001b[0m\u001b[0minput_vector\u001b[0m\u001b[0;34m)\u001b[0m\u001b[0;34m\u001b[0m\u001b[0;34m\u001b[0m\u001b[0m\n\u001b[0;32m----> 3\u001b[0;31m     \u001b[0msleep\u001b[0m\u001b[0;34m(\u001b[0m\u001b[0;36m1\u001b[0m\u001b[0;34m)\u001b[0m\u001b[0;34m\u001b[0m\u001b[0;34m\u001b[0m\u001b[0m\n\u001b[0m",
      "\u001b[0;31mKeyboardInterrupt\u001b[0m: "
     ]
    }
   ],
   "source": [
    "while True:\n",
    "    print(l1_unit0.input_vector)\n",
    "    sleep(1)"
   ]
  },
  {
   "cell_type": "code",
   "execution_count": 6,
   "metadata": {},
   "outputs": [
    {
     "output_type": "execute_result",
     "data": {
      "text/plain": [
       "{b'l0_unit0-e5f966 state': b'00',\n",
       " b'l1_unit0-58d767 state': b'01',\n",
       " b'l1_unit1-4ef52c state': b'10',\n",
       " b'l1_unit1-4ef52c': b'0.5',\n",
       " b'l1_unit0-58d767': b'0.5',\n",
       " b'l0_unit0-e5f966': b'1.0'}"
      ]
     },
     "metadata": {},
     "execution_count": 6
    }
   ],
   "source": [
    "qrobot.qunits.qunit.redis_status()"
   ]
  },
  {
   "cell_type": "code",
   "execution_count": 7,
   "metadata": {},
   "outputs": [
    {
     "output_type": "stream",
     "name": "stdout",
     "text": [
      "2021-01-17 19:06:06,393 — l0_unit0-e5f966 — INFO — stop:241 — Stopping qUnit\n",
      "2021-01-17 19:06:06,398 — l1_unit0-58d767 — INFO — stop:241 — Stopping qUnit\n",
      "2021-01-17 19:06:06,400 — l1_unit1-4ef52c — INFO — stop:241 — Stopping qUnit\n"
     ]
    }
   ],
   "source": [
    "l0_unit0.stop()\n",
    "l1_unit0.stop()\n",
    "l1_unit1.stop()"
   ]
  },
  {
   "cell_type": "code",
   "execution_count": 8,
   "metadata": {},
   "outputs": [
    {
     "output_type": "execute_result",
     "data": {
      "text/plain": [
       "{}"
      ]
     },
     "metadata": {},
     "execution_count": 8
    }
   ],
   "source": [
    "qrobot.qunits.qunit.redis_status()"
   ]
  },
  {
   "cell_type": "code",
   "execution_count": null,
   "metadata": {},
   "outputs": [],
   "source": []
  }
 ],
 "metadata": {
  "kernelspec": {
   "name": "python3",
   "display_name": "Python 3.8.5 64-bit ('qrobot_env')",
   "metadata": {
    "interpreter": {
     "hash": "b841953bce2276ac8bb8f54afbf05a921555cda4af91a3293df4c3c268b7d7b5"
    }
   }
  },
  "language_info": {
   "codemirror_mode": {
    "name": "ipython",
    "version": 3
   },
   "file_extension": ".py",
   "mimetype": "text/x-python",
   "name": "python",
   "nbconvert_exporter": "python",
   "pygments_lexer": "ipython3",
   "version": "3.8.5-final"
  }
 },
 "nbformat": 4,
 "nbformat_minor": 4
}